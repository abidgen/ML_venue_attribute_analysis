{
 "cells": [
  {
   "cell_type": "code",
   "execution_count": 1,
   "metadata": {
    "slideshow": null
   },
   "outputs": [],
   "source": [
    "import seaborn as sns\n",
    "sns.set()"
   ]
  },
  {
   "cell_type": "markdown",
   "metadata": {
    "slideshow": null
   },
   "source": [
    "# ML: Predicting Star Ratings\n"
   ]
  },
  {
   "cell_type": "markdown",
   "metadata": {
    "slideshow": null
   },
   "source": [
    "Our objective is to predict a new venue's popularity from information available when the venue opens.  We will do this by machine learning from a data set of venue popularities provided by Yelp.  The data set contains meta data about the venue (where it is located, the type of food served, etc.).  It also contains a star rating. Note that the venues are not limited to restaurants. This tutorial will walk you through one way to build a machine learning algorithm.\n"
   ]
  },
  {
   "cell_type": "markdown",
   "metadata": {
    "slideshow": null
   },
   "source": [
    "## Metrics and scoring"
   ]
  },
  {
   "cell_type": "markdown",
   "metadata": {
    "slideshow": null
   },
   "source": [
    "For most questions, you are asked to submit your models `predict` method."
   ]
  },
  {
   "cell_type": "markdown",
   "metadata": {
    "slideshow": null
   },
   "source": [
    "## Download and parse the incoming data\n"
   ]
  },
  {
   "cell_type": "markdown",
   "metadata": {
    "slideshow": null
   },
   "source": [
    "The training data are a series of JSON objects, in a Gzipped file. Python supports Gzipped files natively: [`gzip.open`](https://docs.python.org/3/library/gzip.html) has the same interface as `open`, but handles `.gz` files automatically.\n",
    "\n",
    "The built-in `json` package has a `loads` function that converts a JSON string into a Python dictionary. We could call that once for each row of the file. [`ujson`](http://docs.micropython.org/en/latest/library/ujson.html) has the same interface as the built-in `json` package, but is *substantially* faster (at the cost of non-robust handling of malformed JSON). We will use that inside a list comprehension to get a list of dictionaries:"
   ]
  },
  {
   "cell_type": "code",
   "execution_count": 4,
   "metadata": {
    "slideshow": null
   },
   "outputs": [],
   "source": [
    "import ujson as json\n",
    "import gzip\n",
    "\n",
    "with gzip.open('yelp_train_academic_dataset_business.json.gz') as f:\n",
    "    data = [json.loads(line) for line in f]"
   ]
  },
  {
   "cell_type": "markdown",
   "metadata": {
    "slideshow": null
   },
   "source": [
    "In scikit-learn, the labels to be predicted, in this case, the stars, are always kept in a separate data structure than the features. Let's get in this habit now, by creating a separate list of the ratings."
   ]
  },
  {
   "cell_type": "code",
   "execution_count": 6,
   "metadata": {
    "slideshow": null
   },
   "outputs": [],
   "source": [
    "star_ratings = [row['stars'] for row in data]\n",
    "# star_ratings"
   ]
  },
  {
   "cell_type": "markdown",
   "metadata": {
    "slideshow": null
   },
   "source": [
    "A few things to consider:"
   ]
  },
  {
   "cell_type": "markdown",
   "metadata": {
    "slideshow": null
   },
   "source": [
    "1. The test set used by the grader will be in the same form as `data`. For this miniproject, it will be a list of dictionaries. The models you will build will need to handle data of this type; we'll discuss this more further in the questions.\n",
    "1. You may find it useful to serialize your trained model using either [`dill`](https://pypi.python.org/pypi/dill) or [`joblib`](http://scikit-learn.org/stable/modules/model_persistence.html). That way, you can reload your model after restarting the Jupyter notebook without needing to retrain it.\n",
    "1. There are obvious mistakes in the data; there is no need to try to correct them."
   ]
  },
  {
   "cell_type": "markdown",
   "metadata": {
    "slideshow": null
   },
   "source": [
    "# Questions\n"
   ]
  },
  {
   "cell_type": "markdown",
   "metadata": {
    "slideshow": null
   },
   "source": [
    "## Question 1: city_avg"
   ]
  },
  {
   "cell_type": "markdown",
   "metadata": {
    "slideshow": null
   },
   "source": [
    "The venues belong to different cities.  You can imagine that the ratings in some cities are probably higher than others.  We wish to build an estimator to make a prediction based on this, but first we need to work out the average rating for each city.  For this problem, create a list of tuples (city name, star rating), one for each city in the data set. There are many ways to do this; please feel free to experiment on your own.  If you get stuck, the steps below attempt to guide you through the process.\n",
    "\n",
    "A simple approach is to go through all of the dictionaries in our array, calculating the sum of the star ratings and the number of venues for each city. At the end, we can just divide the stars by the count to get the average. We could create a separate sum and count variable for each city, but that will get tedious quickly. A better approach is to create a dictionary for each. The key will be the city name, and the value the running sum or running count.\n",
    "\n",
    "One slight annoyance of this approach is that we will have to test whether a key exists in the dictionary before adding to the running tally.  The `collections` module's `defaultdict` class works around this by providing default values for keys that haven't been used. Thus, if we do"
   ]
  },
  {
   "cell_type": "code",
   "execution_count": 7,
   "metadata": {
    "slideshow": null
   },
   "outputs": [],
   "source": [
    "from collections import defaultdict\n",
    "\n",
    "star_sum = defaultdict(int)\n",
    "count = defaultdict(int)"
   ]
  },
  {
   "cell_type": "markdown",
   "metadata": {
    "slideshow": null
   },
   "source": [
    "we can increment any key of `star_sum` or `count` without first worrying whether the key exists. We need to go through the `data` and `star_ratings` list together, which we can do with the `zip` function."
   ]
  },
  {
   "cell_type": "code",
   "execution_count": 8,
   "metadata": {
    "slideshow": null
   },
   "outputs": [],
   "source": [
    "for row, stars in zip(data, star_ratings):\n",
    "    # increment the running sum in star_sum\n",
    "    # increment the running count in count\n",
    "    star_sum[row['city']] += stars\n",
    "    count[row['city']] += 1"
   ]
  },
  {
   "cell_type": "code",
   "execution_count": 9,
   "metadata": {},
   "outputs": [],
   "source": [
    "# star_sum ,count"
   ]
  },
  {
   "cell_type": "markdown",
   "metadata": {
    "slideshow": null
   },
   "source": [
    "Now we can calculate the average ratings.  Again, a dictionary makes a good container."
   ]
  },
  {
   "cell_type": "code",
   "execution_count": 10,
   "metadata": {
    "slideshow": null
   },
   "outputs": [],
   "source": [
    "avg_stars = dict()\n",
    "for city in star_sum:\n",
    "    # calculate average star rating and store in avg_stars\n",
    "    avg_stars[city]= star_sum[city]/count[city]"
   ]
  },
  {
   "cell_type": "code",
   "execution_count": 11,
   "metadata": {},
   "outputs": [
    {
     "data": {
      "text/plain": [
       "3.7127593360958078"
      ]
     },
     "execution_count": 11,
     "metadata": {},
     "output_type": "execute_result"
    }
   ],
   "source": [
    " sum(avg_stars.values()) / len(avg_stars)"
   ]
  },
  {
   "cell_type": "code",
   "execution_count": 12,
   "metadata": {},
   "outputs": [
    {
     "data": {
      "text/plain": [
       "167"
      ]
     },
     "execution_count": 12,
     "metadata": {},
     "output_type": "execute_result"
    }
   ],
   "source": [
    "len(avg_stars)"
   ]
  },
  {
   "cell_type": "markdown",
   "metadata": {
    "slideshow": null
   },
   "source": [
    "There should be 167 different cities:"
   ]
  },
  {
   "cell_type": "markdown",
   "metadata": {
    "slideshow": null
   },
   "source": [
    "We can get that list of tuples by converting the returned view object from the `items` method into a list."
   ]
  },
  {
   "cell_type": "code",
   "execution_count": 1,
   "metadata": {
    "slideshow": null
   },
   "outputs": [
    {
     "ename": "NameError",
     "evalue": "name 'avg_stars' is not defined",
     "output_type": "error",
     "traceback": [
      "\u001b[1;31m---------------------------------------------------------------------------\u001b[0m",
      "\u001b[1;31mNameError\u001b[0m                                 Traceback (most recent call last)",
      "Input \u001b[1;32mIn [1]\u001b[0m, in \u001b[0;36m<cell line: 1>\u001b[1;34m()\u001b[0m\n\u001b[1;32m----> 1\u001b[0m \u001b[38;5;28mlist\u001b[39m(\u001b[43mavg_stars\u001b[49m\u001b[38;5;241m.\u001b[39mitems())\n",
      "\u001b[1;31mNameError\u001b[0m: name 'avg_stars' is not defined"
     ]
    }
   ],
   "source": [
    "list(avg_stars.items())"
   ]
  },
  {
   "cell_type": "markdown",
   "metadata": {
    "slideshow": null
   },
   "source": [
    "## Question 2: city_model"
   ]
  },
  {
   "cell_type": "markdown",
   "metadata": {
    "slideshow": null
   },
   "source": [
    "Now, let's build a custom estimator that will make a prediction based solely on the city of a venue.  It is tempting to hard-code the answers from the previous section into this model, but we're going to resist and do things properly.\n",
    "\n",
    "This custom estimator will have a `fit` method.  It will receive `data` as its argument `X` and `star_ratings` as `y`, and should repeat the calculation of the previous problem there.  Then the `predict` method can look up the average rating for the city of each record it receives."
   ]
  },
  {
   "cell_type": "code",
   "execution_count": 15,
   "metadata": {
    "slideshow": null
   },
   "outputs": [],
   "source": [
    "from sklearn.base import BaseEstimator, RegressorMixin\n",
    "\n",
    "class CityRegressor(BaseEstimator, RegressorMixin):\n",
    "    \n",
    "    def __init__(self):\n",
    "        self.avg_stars = dict()\n",
    "    \n",
    "    def fit(self, X, y):\n",
    "        # Store the average rating per city in self.avg_stars\n",
    "        star_sum = defaultdict(int)\n",
    "        count = defaultdict(int)\n",
    "        for row, stars in zip(X,y):\n",
    "            star_sum[row['city']] += stars\n",
    "            count[row['city']] += 1\n",
    "\n",
    "        for city in star_sum:\n",
    "            self.avg_stars[city]= star_sum[city]/count[city]\n",
    "        return self\n",
    "    \n",
    "    def predict(self, X):\n",
    "        result =[]\n",
    "        average_star = sum(self.avg_stars.values()) / len(self.avg_stars)\n",
    "        for row in X:\n",
    "            if row['city'] in self.avg_stars:\n",
    "                result.append(self.avg_stars[row['city']])\n",
    "            else:\n",
    "                result.append(average_star)\n",
    "        return result"
   ]
  },
  {
   "cell_type": "markdown",
   "metadata": {
    "slideshow": null
   },
   "source": [
    "Now we can create an instance of our regressor and train it."
   ]
  },
  {
   "cell_type": "code",
   "execution_count": 16,
   "metadata": {
    "slideshow": null
   },
   "outputs": [
    {
     "data": {
      "text/plain": [
       "CityRegressor()"
      ]
     },
     "execution_count": 16,
     "metadata": {},
     "output_type": "execute_result"
    }
   ],
   "source": [
    "city_model = CityRegressor()\n",
    "city_model.fit(data, star_ratings)"
   ]
  },
  {
   "cell_type": "markdown",
   "metadata": {
    "slideshow": null
   },
   "source": [
    "And let's see if it works."
   ]
  },
  {
   "cell_type": "code",
   "execution_count": 17,
   "metadata": {
    "slideshow": null
   },
   "outputs": [
    {
     "data": {
      "text/plain": [
       "[3.6702903946388683, 3.75, 3.75, 3.75, 3.75]"
      ]
     },
     "execution_count": 17,
     "metadata": {},
     "output_type": "execute_result"
    }
   ],
   "source": [
    "city_model.predict(data[:5])"
   ]
  },
  {
   "cell_type": "markdown",
   "metadata": {
    "slideshow": null
   },
   "source": [
    "There is a problem, however.  What happens if we're asked to estimate the rating of a venue in a city that's not in our training set?"
   ]
  },
  {
   "cell_type": "code",
   "execution_count": 18,
   "metadata": {
    "slideshow": null
   },
   "outputs": [
    {
     "data": {
      "text/plain": [
       "[3.6702903946388683, 3.7127593360958078, 3.6457337883959045]"
      ]
     },
     "execution_count": 18,
     "metadata": {},
     "output_type": "execute_result"
    }
   ],
   "source": [
    "city_model.predict([{'city': 'Phoenix'}, {'city': 'Timbuktu'}, {'city': 'Madison'}])"
   ]
  },
  {
   "cell_type": "markdown",
   "metadata": {
    "slideshow": null
   },
   "source": [
    "## Question 3: lat_long_model"
   ]
  },
  {
   "cell_type": "markdown",
   "metadata": {
    "slideshow": null
   },
   "source": [
    "You can imagine that a city-based model might not be sufficiently fine-grained. For example, we know that some neighborhoods are trendier than others.  Use the latitude and longitude of a venue as features that help you understand neighborhood dynamics.\n",
    "\n",
    "Since we need to select the appropriate columns from our dictionaries to build our latitude-longitude model, we will have to use scikit-learn's [`ColumnTransformer`](https://scikit-learn.org/stable/modules/generated/sklearn.compose.ColumnTransformer.html). However, the `ColumnTransformer` works with either NumPy arrays or pandas data frames. While we can convert our training data into a data frame easily, the test set the grader uses is a list of dictionaries. Thus, our first estimator in our workflow should be a transformer that converts a list of dictionaries into a pandas data frame."
   ]
  },
  {
   "cell_type": "code",
   "execution_count": 20,
   "metadata": {
    "slideshow": null
   },
   "outputs": [],
   "source": [
    "import pandas as pd\n",
    "from sklearn.base import TransformerMixin\n",
    "\n",
    "class ToDataFrame(BaseEstimator, TransformerMixin):\n",
    "    def fit(self, X, y=None):\n",
    "        # This transformer doesn't need to learn anything about the data,\n",
    "        # so it can just return self without any further processing\n",
    "        return self\n",
    "    \n",
    "    def transform(self, X):\n",
    "        # Return a pandas data frame from X\n",
    "        return  pd.DataFrame(X)"
   ]
  },
  {
   "cell_type": "markdown",
   "metadata": {
    "slideshow": null
   },
   "source": [
    "Let's test out the transformer."
   ]
  },
  {
   "cell_type": "code",
   "execution_count": 21,
   "metadata": {
    "slideshow": null
   },
   "outputs": [
    {
     "data": {
      "text/plain": [
       "True"
      ]
     },
     "execution_count": 21,
     "metadata": {},
     "output_type": "execute_result"
    }
   ],
   "source": [
    "to_data_frame = ToDataFrame()\n",
    "X_t = to_data_frame.fit_transform(data[:5])\n",
    "\n",
    "# Check that our transformer properly transform the input data into a data frame\n",
    "grader.check((X_t == pd.DataFrame(data[:5])).all(axis=None))"
   ]
  },
  {
   "cell_type": "markdown",
   "metadata": {
    "slideshow": null
   },
   "source": [
    "Now we are ready to use `ColumnTransformer` and test it out."
   ]
  },
  {
   "cell_type": "code",
   "execution_count": 22,
   "metadata": {
    "slideshow": null
   },
   "outputs": [
    {
     "data": {
      "text/plain": [
       "True"
      ]
     },
     "execution_count": 22,
     "metadata": {},
     "output_type": "execute_result"
    }
   ],
   "source": [
    "import numpy as np\n",
    "from sklearn.compose import ColumnTransformer\n",
    "\n",
    "selector = ColumnTransformer([\n",
    "    ('lat_long', 'passthrough', ['latitude','longitude'])\n",
    "])\n",
    "expected = np.array([data[0]['latitude'], data[0]['longitude']])\n",
    "\n",
    "# Check that our selector returns just two columns, the latitude and longitude\n",
    "grader.check((selector.fit_transform(X_t)[0] == expected).all())"
   ]
  },
  {
   "cell_type": "markdown",
   "metadata": {
    "slideshow": null
   },
   "source": [
    "Now, let's feed the output of the transformer in to a `KNeighborsRegressor`. As a sanity check, we'll test it with the first 5 rows."
   ]
  },
  {
   "cell_type": "code",
   "execution_count": 23,
   "metadata": {
    "slideshow": null
   },
   "outputs": [
    {
     "data": {
      "text/plain": [
       "array([4. , 4.2, 4. , 3.8, 4.2])"
      ]
     },
     "execution_count": 23,
     "metadata": {},
     "output_type": "execute_result"
    }
   ],
   "source": [
    "from sklearn.neighbors import KNeighborsRegressor\n",
    "\n",
    "# Training the model\n",
    "data_transform = to_data_frame.transform(data)\n",
    "data_transform = selector.fit_transform(data_transform)\n",
    "knn = KNeighborsRegressor(n_neighbors=5)\n",
    "knn.fit(data_transform, star_ratings)\n",
    "\n",
    "# Making predictions\n",
    "test_data = data[:5]\n",
    "test_data_transform = to_data_frame.transform(test_data)\n",
    "test_data_transform = selector.transform(test_data_transform)\n",
    "knn.predict(test_data_transform)"
   ]
  },
  {
   "cell_type": "markdown",
   "metadata": {
    "slideshow": null
   },
   "source": [
    "We are not ready to submit to the grader; there are two things we still need to do:\n",
    "1. Wrap all the steps necessary to go from our data (list of dictionaries) to predicted ratings\n",
    "1. Determine the optimal value for our predictor's hyperparameter\n",
    "\n",
    "For the first point, we will use a pipeline, ensuring that our model applies all the required transformations given the form of the input data. Remember that a pipeline is made with a list of `(step_name, estimator)` tuples."
   ]
  },
  {
   "cell_type": "code",
   "execution_count": 24,
   "metadata": {},
   "outputs": [
    {
     "data": {
      "text/plain": [
       "37938"
      ]
     },
     "execution_count": 24,
     "metadata": {},
     "output_type": "execute_result"
    }
   ],
   "source": [
    "len(data)"
   ]
  },
  {
   "cell_type": "code",
   "execution_count": 25,
   "metadata": {
    "slideshow": null
   },
   "outputs": [],
   "source": [
    "# from sklearn.pipeline import Pipeline\n",
    "# from sklearn.model_selection import GridSearchCV\n",
    "\n",
    "# to_data_frame = ToDataFrame()\n",
    "\n",
    "# selector = ColumnTransformer([\n",
    "#     ('lat_long', 'passthrough', ['latitude','longitude'])\n",
    "# ])\n",
    "\n",
    "# knn = KNeighborsRegressor(n_neighbors=5)\n",
    "\n",
    "# parameters = {'n_neighbors':np.arange(90,121)}\n",
    "# knn = KNeighborsRegressor()\n",
    "# grid_knn = GridSearchCV(knn, parameters)\n",
    "\n",
    "\n",
    "# pipe = Pipeline([\n",
    "#         ('to_df',to_data_frame),\n",
    "#         ('selector',selector),\n",
    "#         ('knn_regressor_grid',grid_knn)\n",
    "# ], verbose=True)"
   ]
  },
  {
   "cell_type": "code",
   "execution_count": 26,
   "metadata": {},
   "outputs": [],
   "source": [
    "from sklearn.model_selection import KFold\n",
    "from sklearn.pipeline import Pipeline\n",
    "from sklearn.model_selection import GridSearchCV\n",
    "\n",
    "to_data_frame = ToDataFrame()\n",
    "\n",
    "selector = ColumnTransformer([\n",
    "    ('lat_long', 'passthrough', ['latitude','longitude'])\n",
    "])\n",
    "\n",
    "knn = KNeighborsRegressor(n_neighbors=5)\n",
    "\n",
    "parameters = {'n_neighbors':np.arange(90,121)}\n",
    "knn = KNeighborsRegressor()\n",
    "grid_knn = GridSearchCV(knn, parameters, cv= KFold(n_splits=5, shuffle=True, random_state=1169))\n",
    "\n",
    "\n",
    "pipe = Pipeline([\n",
    "        ('to_df',to_data_frame),\n",
    "        ('selector',selector),\n",
    "        ('knn_regressor_grid',grid_knn)\n",
    "], verbose=True)"
   ]
  },
  {
   "cell_type": "markdown",
   "metadata": {
    "slideshow": null
   },
   "source": [
    "Now let's fit and predict."
   ]
  },
  {
   "cell_type": "code",
   "execution_count": 27,
   "metadata": {
    "slideshow": null
   },
   "outputs": [
    {
     "name": "stdout",
     "output_type": "stream",
     "text": [
      "[Pipeline] ............. (step 1 of 3) Processing to_df, total=   0.2s\n",
      "[Pipeline] .......... (step 2 of 3) Processing selector, total=   0.0s\n",
      "[Pipeline]  (step 3 of 3) Processing knn_regressor_grid, total=  21.3s\n"
     ]
    },
    {
     "data": {
      "text/plain": [
       "array([3.90322581, 3.43548387, 3.56989247, 3.6344086 , 3.56451613])"
      ]
     },
     "execution_count": 27,
     "metadata": {},
     "output_type": "execute_result"
    }
   ],
   "source": [
    "lat_long_to_star_ratings = pipe\n",
    "\n",
    "lat_long_to_star_ratings.fit(data, star_ratings)\n",
    "lat_long_to_star_ratings.predict(data[:5])"
   ]
  },
  {
   "cell_type": "code",
   "execution_count": 28,
   "metadata": {},
   "outputs": [
    {
     "data": {
      "text/plain": [
       "{'n_neighbors': 93}"
      ]
     },
     "execution_count": 28,
     "metadata": {},
     "output_type": "execute_result"
    }
   ],
   "source": [
    "lat_long_to_star_ratings.named_steps['knn_regressor_grid'].best_params_   ###{'n_neighbors': 93}"
   ]
  },
  {
   "cell_type": "markdown",
   "metadata": {
    "slideshow": null
   },
   "source": [
    "Let's now focus on the second point. The `KNeighborsRegressor` takes the `n_neighbors` hyperparameter, which tells it how many nearest neighbors to average together when making a prediction. There is no reason to believe that 5 is the optimum value. We will need to determine a better value for this hyperparameter. A common approach is to use a hyperparameter searching tool such as [`GridSearchCV`](http://scikit-learn.org/stable/modules/generated/sklearn.model_selection.GridSearchCV.html#sklearn.model_selection.GridSearchCV). You may need to refer back to the notebooks about the ways to interface searching tools and pipelines."
   ]
  },
  {
   "cell_type": "markdown",
   "metadata": {
    "slideshow": null
   },
   "source": [
    "You should consider whether the data needs to be shuffled as it might not have been randomized. For example, the data could be ordered by a certain feature or by the labels. If you perform a train/test split with [`train_test_split`](http://scikit-learn.org/stable/modules/generated/sklearn.model_selection.train_test_split.html#sklearn.model_selection.train_test_split), the data is shuffled by default. However, when using `GridSearchCV`, the folds are not shuffled when you use the default K-folds cross-validation.\n",
    "\n",
    "The code below will plot a rolling mean of the star ratings. Do you need to shuffle the data?"
   ]
  },
  {
   "cell_type": "code",
   "execution_count": 29,
   "metadata": {
    "slideshow": null
   },
   "outputs": [
    {
     "data": {
      "image/png": "[encoded data removed]",
      "text/plain": [
       "<Figure size 432x288 with 1 Axes>"
      ]
     },
     "metadata": {},
     "output_type": "display_data"
    }
   ],
   "source": [
    "from pandas import Series\n",
    "import matplotlib.pyplot as plt\n",
    "\n",
    "plt.plot(Series.rolling(Series(star_ratings), window=1000).mean());"
   ]
  },
  {
   "cell_type": "markdown",
   "metadata": {
    "slideshow": null
   },
   "source": [
    "## Question 4: category_model"
   ]
  },
  {
   "cell_type": "markdown",
   "metadata": {
    "slideshow": null
   },
   "source": [
    "While location is important, we could also try seeing how predictive the\n",
    "venue's category is. Build an estimator that considers only the `'categories'` field of the data.\n",
    "\n",
    "The categories come as a list of strings, but the scikit-learn's predictors all need numeric input. We ultimately want to create a column in our feature matrix to represent every category. For a given row, only the columns that represent the categories it contains will be filled with a one, otherwise, it will be filled with a zero. The described method is similar to **one-hot encoding**, however, an observation/row can contain more than one \"hot\", non-zero, column.\n",
    "\n",
    "To achieve our encoding plan, we need to use scikit-learn's provides [`DictVectorizer`](http://scikit-learn.org/stable/modules/generated/sklearn.feature_extraction.DictVectorizer.html#sklearn.feature_extraction.DictVectorizer). This transformer takes a 1-D array of dictionaries and creates a column in the output matrix for each key in the dictionary and fills it with the value associated with it. Missing keys are filled with zeros. However, we need to build a transformer that takes an array of strings and returns an array of dictionaries with keys given by those strings and values of one. For example, it should transform `X_in` into `X_out`."
   ]
  },
  {
   "cell_type": "code",
   "execution_count": 31,
   "metadata": {
    "slideshow": null
   },
   "outputs": [
    {
     "name": "stdout",
     "output_type": "stream",
     "text": [
      "0       [a]\n",
      "1    [b, c]\n",
      "dtype: object\n",
      "0            {'a': 1}\n",
      "1    {'b': 1, 'c': 1}\n",
      "dtype: object\n"
     ]
    }
   ],
   "source": [
    "X_in = pd.Series([['a'], ['b', 'c']])\n",
    "X_out = pd.Series([{'a': 1}, {'b': 1, 'c': 1}])\n",
    "\n",
    "print(X_in)\n",
    "print(X_out)"
   ]
  },
  {
   "cell_type": "code",
   "execution_count": 32,
   "metadata": {
    "slideshow": null
   },
   "outputs": [],
   "source": [
    "class DictEncoder(BaseEstimator, TransformerMixin):\n",
    "    \n",
    "    def fit(self, X, y=None):\n",
    "        return self\n",
    "    \n",
    "    def transform(self, X):\n",
    "        # X will be a pandas series. Return a pandas series of dictionaries\n",
    "        return pd.Series([{i:1 for i in j} for j in X.squeeze()])"
   ]
  },
  {
   "cell_type": "markdown",
   "metadata": {
    "slideshow": null
   },
   "source": [
    "Now let's test out that our `DictEncoder` works out as expected."
   ]
  },
  {
   "cell_type": "code",
   "execution_count": 33,
   "metadata": {},
   "outputs": [
    {
     "data": {
      "text/plain": [
       "(2,)"
      ]
     },
     "execution_count": 33,
     "metadata": {},
     "output_type": "execute_result"
    }
   ],
   "source": [
    "(DictEncoder().fit_transform(X_in)).shape"
   ]
  },
  {
   "cell_type": "code",
   "execution_count": 34,
   "metadata": {
    "slideshow": null
   },
   "outputs": [
    {
     "data": {
      "text/plain": [
       "True"
      ]
     },
     "execution_count": 34,
     "metadata": {},
     "output_type": "execute_result"
    }
   ],
   "source": [
    "# Check that DictEncoder transforms a series of list of strings into the expected series of dictionaries\n",
    "grader.check((DictEncoder().fit_transform(X_in) == X_out).all())"
   ]
  },
  {
   "cell_type": "markdown",
   "metadata": {
    "slideshow": null
   },
   "source": [
    "Now, create a pipeline object of the two step transformation for the categories data. Afterwards, create a `ColumnTransformer` object that will use the aforementioned pipeline object to transform the `'categories'` field."
   ]
  },
  {
   "cell_type": "code",
   "execution_count": 35,
   "metadata": {
    "slideshow": null
   },
   "outputs": [],
   "source": [
    "from sklearn.pipeline import Pipeline\n",
    "from sklearn.feature_extraction import DictVectorizer\n",
    "\n",
    "dict_vectorizer = Pipeline([\n",
    "        ('DictEncoder',DictEncoder()),\n",
    "        (' DictVectorizer', DictVectorizer())\n",
    "], verbose=True)\n",
    "\n",
    "\n",
    "cat_transformer = ColumnTransformer([\n",
    "    ('dict_vectorize', dict_vectorizer, ['categories'])\n",
    "])"
   ]
  },
  {
   "cell_type": "markdown",
   "metadata": {
    "slideshow": null
   },
   "source": [
    "Finally, create a pipeline object that will\n",
    "1. Convert our list of dictionaries into a data frame\n",
    "1. Select the `'categories'` column and encode the data\n",
    "1. Train a regularized linear model such as `Ridge`\n",
    "\n",
    "There will be a large number of features, one for each category, so there is a significant danger of overfitting. Use cross validation to choose the best regularization parameter."
   ]
  },
  {
   "cell_type": "code",
   "execution_count": 36,
   "metadata": {
    "slideshow": null
   },
   "outputs": [
    {
     "name": "stdout",
     "output_type": "stream",
     "text": [
      "[Pipeline] ............. (step 1 of 4) Processing to_df, total=   0.2s\n",
      "[Pipeline] ....... (step 1 of 2) Processing DictEncoder, total=   0.0s\n",
      "[Pipeline] ... (step 2 of 2) Processing  DictVectorizer, total=   0.1s\n",
      "[Pipeline] ... (step 2 of 4) Processing cat_transformer, total=   0.2s\n",
      "[Pipeline] .. (step 3 of 4) Processing TfidfTransformer, total=   0.0s\n",
      "[Pipeline] ........ (step 4 of 4) Processing ridge_grid, total=  17.6s\n"
     ]
    },
    {
     "data": {
      "text/plain": [
       "Pipeline(steps=[('to_df', ToDataFrame()),\n",
       "                ('cat_transformer',\n",
       "                 ColumnTransformer(transformers=[('dict_vectorize',\n",
       "                                                  Pipeline(steps=[('DictEncoder',\n",
       "                                                                   DictEncoder()),\n",
       "                                                                  (' '\n",
       "                                                                   'DictVectorizer',\n",
       "                                                                   DictVectorizer())],\n",
       "                                                           verbose=True),\n",
       "                                                  ['categories'])])),\n",
       "                ('TfidfTransformer', TfidfTransformer()),\n",
       "                ('ridge_grid',\n",
       "                 GridSearchCV(estimator=Ridge(),\n",
       "                              param_grid={'alpha': array([1.00000000e...\n",
       "       2.32995181e-04, 4.29193426e-04, 7.90604321e-04, 1.45634848e-03,\n",
       "       2.68269580e-03, 4.94171336e-03, 9.10298178e-03, 1.67683294e-02,\n",
       "       3.08884360e-02, 5.68986603e-02, 1.04811313e-01, 1.93069773e-01,\n",
       "       3.55648031e-01, 6.55128557e-01, 1.20679264e+00, 2.22299648e+00,\n",
       "       4.09491506e+00, 7.54312006e+00, 1.38949549e+01, 2.55954792e+01,\n",
       "       4.71486636e+01, 8.68511374e+01, 1.59985872e+02, 2.94705170e+02,\n",
       "       5.42867544e+02, 1.00000000e+03])}))],\n",
       "         verbose=True)"
      ]
     },
     "execution_count": 36,
     "metadata": {},
     "output_type": "execute_result"
    }
   ],
   "source": [
    "from sklearn.pipeline import Pipeline\n",
    "from sklearn.linear_model import Ridge\n",
    "from sklearn.feature_extraction.text import TfidfTransformer\n",
    "\n",
    "\n",
    "\n",
    "n_alphas = 50\n",
    "alphas = np.logspace(-10, 3, n_alphas)\n",
    "\n",
    "parameters = {'alpha': alphas}\n",
    "ridge_ = Ridge()\n",
    "ridge_grid = GridSearchCV(ridge_, parameters)\n",
    "\n",
    "\n",
    "\n",
    "category_model = Pipeline([\n",
    "        ('to_df',to_data_frame),\n",
    "        ('cat_transformer',cat_transformer),\n",
    "        ('TfidfTransformer',TfidfTransformer()),\n",
    "        ('ridge_grid',ridge_grid)\n",
    "], verbose=True)\n",
    "\n",
    "\n",
    "category_model.fit(data, star_ratings)"
   ]
  },
  {
   "cell_type": "markdown",
   "metadata": {
    "slideshow": null
   },
   "source": [
    "**Extension:** Some categories (e.g., Restaurants) are not very specific. Others (Japanese sushi) are much more so.  One way to deal with this is with an measure call term frequency-inverse document frequency (tf-idf). Add in a [`TfidfTransformer`](https://scikit-learn.org/stable/modules/generated/sklearn.feature_extraction.text.TfidfVectorizer.html) between the `DictVectorizer` and the linear model, and see if that improves performance."
   ]
  },
  {
   "cell_type": "markdown",
   "metadata": {
    "slideshow": null
   },
   "source": [
    "## Question 5: attribute_model"
   ]
  },
  {
   "cell_type": "markdown",
   "metadata": {
    "slideshow": null
   },
   "source": [
    "There is even more information in the attributes for each venue.  Let's build an estimator based on these.\n",
    "\n",
    "Venues attributes may be nested:\n",
    "```python\n",
    "{\n",
    "  'Attire': 'casual',\n",
    "  'Accepts Credit Cards': True,\n",
    "  'Ambiance': {'casual': False, 'classy': False}\n",
    "}\n",
    "```\n",
    "We wish to encode them in the same manner as our categories data using the `DictVectorizer`. Before we do so, we need to flatten the dictionary to a single level:\n",
    "```python\n",
    "{\n",
    "  'Attire_casual' : 1,\n",
    "  'Accepts Credit Cards': 1,\n",
    "  'Ambiance_casual': 0,\n",
    "  'Ambiance_classy': 0\n",
    "}\n",
    "```\n",
    "Build a custom transformer that flattens the dictionary for the `'attributes'` field. Similar to what was done before, create a model that properly encodes the attribute data and learns to predict the ratings.\n",
    "\n",
    "You may find it difficult to find a single regressor that does well enough. A common solution is to use a linear model to fit the linear part of some data, and use a non-linear model to fit the residual that the linear model can't fit. Build a custom predictor that takes as an argument two other predictors. It should use the first to fit the raw data and the second to fit the residuals of the first.\n"
   ]
  },
  {
   "cell_type": "code",
   "execution_count": 46,
   "metadata": {},
   "outputs": [],
   "source": [
    "# from collections.abc import MutableMapping\n",
    "\n",
    "# def dict_flattener(X: MutableMapping):\n",
    "#     parent_key = str()\n",
    "#     sep = '_'\n",
    "#     items= []\n",
    "#     for k, v in X.items():\n",
    "#         new_key = (parent_key + sep + str(k)) if parent_key else str(k)\n",
    "#         if isinstance(v, MutableMapping):\n",
    "#             items.extend(dict_flattener(v).items())\n",
    "#         elif isinstance(v,bool):\n",
    "#             items.append((new_key, int(v)))\n",
    "#         elif isinstance(v,str):\n",
    "#             if v.lower() == 'yes':\n",
    "#                 items.append((new_key, 1))\n",
    "#             elif v.lower() == 'no':\n",
    "#                 items.append((new_key, 0))\n",
    "#             else:\n",
    "#                 newer_key = (new_key + sep + str(v))\n",
    "#                 items.append((newer_key, 1)) \n",
    "#         elif isinstance(v,(int,float)):\n",
    "#             items.append((new_key, v)) \n",
    "\n",
    "#     return dict(items)\n",
    "\n",
    "\n",
    "\n",
    "\n",
    "\n",
    "# class DictFlatten(BaseEstimator, TransformerMixin):\n",
    "    \n",
    "#     def fit(self, X, y = None):\n",
    "#         return self\n",
    "    \n",
    "#     def transform(self, X):\n",
    "#         # X will be a pandas series. Return a pandas series of dictionaries\n",
    "#         return pd.Series([dict_flattener(j) for j in X.squeeze()])"
   ]
  },
  {
   "cell_type": "code",
   "execution_count": 53,
   "metadata": {},
   "outputs": [],
   "source": [
    "from collections.abc import MutableMapping\n",
    "\n",
    "def dict_flattener(X: MutableMapping, parent_key = ''):\n",
    "    sep = '_'\n",
    "    items= []\n",
    "    for k, v in X.items():\n",
    "        new_key = (parent_key + sep + str(k)) if parent_key else str(k)\n",
    "        if isinstance(v, MutableMapping):\n",
    "            items.extend(dict_flattener(v, parent_key=new_key).items())\n",
    "        elif isinstance(v,bool):\n",
    "            items.append((new_key, int(v)))\n",
    "        elif isinstance(v,str):\n",
    "            if v.lower() == 'yes':\n",
    "                items.append((new_key, 1))\n",
    "            elif v.lower() == 'no':\n",
    "                items.append((new_key, 0))\n",
    "            else:\n",
    "                newer_key = (new_key + sep + str(v))\n",
    "                items.append((newer_key, 1)) \n",
    "        elif isinstance(v,(int,float)):\n",
    "            items.append((new_key, v)) \n",
    "\n",
    "    return dict(items)\n",
    "\n",
    "\n",
    "\n",
    "class DictFlatten(BaseEstimator, TransformerMixin):\n",
    "    \n",
    "    def fit(self, X, y = None):\n",
    "        return self\n",
    "    \n",
    "    def transform(self, X):\n",
    "        return pd.Series([dict_flattener(j) for j in X.squeeze()])"
   ]
  },
  {
   "cell_type": "code",
   "execution_count": 54,
   "metadata": {},
   "outputs": [],
   "source": [
    "# from sklearn.preprocessing import FunctionTransformer\n",
    "\n",
    "# date_transformer = FunctionTransformer(dict_flattener)"
   ]
  },
  {
   "cell_type": "code",
   "execution_count": 55,
   "metadata": {},
   "outputs": [],
   "source": [
    "from sklearn.pipeline import Pipeline\n",
    "from sklearn.feature_extraction import DictVectorizer\n",
    "\n",
    "dict_vectorizer = Pipeline([\n",
    "        ('DictFlatten',DictFlatten()),\n",
    "        (' DictVectorizer', DictVectorizer())\n",
    "], verbose=True)\n",
    "\n",
    "\n",
    "cat_transformer_att = ColumnTransformer([\n",
    "    ('dict_vectorize', dict_vectorizer, ['attributes'])\n",
    "])"
   ]
  },
  {
   "cell_type": "code",
   "execution_count": 56,
   "metadata": {},
   "outputs": [
    {
     "name": "stdout",
     "output_type": "stream",
     "text": [
      "[Pipeline] ............. (step 1 of 3) Processing to_df, total=   0.2s\n",
      "[Pipeline] ....... (step 1 of 2) Processing DictFlatten, total=   0.5s\n",
      "[Pipeline] ... (step 2 of 2) Processing  DictVectorizer, total=   0.5s\n",
      "[Pipeline] ... (step 2 of 3) Processing cat_transformer, total=   1.0s\n",
      "[Pipeline] ........ (step 3 of 3) Processing ridge_grid, total=  21.0s\n"
     ]
    },
    {
     "data": {
      "text/plain": [
       "Pipeline(steps=[('to_df', ToDataFrame()),\n",
       "                ('cat_transformer',\n",
       "                 ColumnTransformer(transformers=[('dict_vectorize',\n",
       "                                                  Pipeline(steps=[('DictFlatten',\n",
       "                                                                   DictFlatten()),\n",
       "                                                                  (' '\n",
       "                                                                   'DictVectorizer',\n",
       "                                                                   DictVectorizer())],\n",
       "                                                           verbose=True),\n",
       "                                                  ['attributes'])])),\n",
       "                ('ridge_grid', GradientBoostingRegressor(n_estimators=1000))],\n",
       "         verbose=True)"
      ]
     },
     "execution_count": 56,
     "metadata": {},
     "output_type": "execute_result"
    }
   ],
   "source": [
    "from sklearn.pipeline import Pipeline\n",
    "from sklearn.linear_model import Ridge\n",
    "from sklearn.preprocessing import MaxAbsScaler\n",
    "from sklearn.ensemble import GradientBoostingRegressor\n",
    "\n",
    "\n",
    "\n",
    "n_alphas = 50\n",
    "alphas = np.logspace(-10, 3, n_alphas)\n",
    "\n",
    "parameters = {'alpha': alphas}\n",
    "ridge_ = Ridge()\n",
    "ridge_grid = GridSearchCV(ridge_, parameters)\n",
    "\n",
    "\n",
    "\n",
    "lr_att_model = Pipeline([\n",
    "        ('to_df',to_data_frame),\n",
    "        ('cat_transformer',cat_transformer_att),\n",
    "#         ('TfidfTransformer',TfidfTransformer()),\n",
    "        ('ridge_grid',GradientBoostingRegressor(n_estimators=1000))\n",
    "], verbose=True)\n",
    "\n",
    "\n",
    "att_model_lr = lr_att_model\n",
    "\n",
    "att_model_lr.fit(data, star_ratings)"
   ]
  },
  {
   "cell_type": "code",
   "execution_count": 57,
   "metadata": {},
   "outputs": [
    {
     "data": {
      "text/plain": [
       "array([3.90494074, 3.56955625, 3.81880401, ..., 3.68451971, 3.99400936,\n",
       "       3.67765768])"
      ]
     },
     "execution_count": 57,
     "metadata": {},
     "output_type": "execute_result"
    }
   ],
   "source": [
    "att_model_lr.predict(data)"
   ]
  },
  {
   "cell_type": "code",
   "execution_count": 134,
   "metadata": {},
   "outputs": [],
   "source": [
    "# from sklearn.ensemble import RandomForestRegressor\n",
    "\n",
    "# rf_regressor_nlr = RandomForestRegressor()\n",
    "\n",
    "# rf_regressor = rf_regressor_nlr\n",
    "# rf_regressor.fit(prediction.reshape(-1, 1), star_ratings)\n",
    "\n",
    "# star_ratings - rf_regressor.predict(residual.reshape(-1, 1))"
   ]
  },
  {
   "cell_type": "code",
   "execution_count": 135,
   "metadata": {},
   "outputs": [],
   "source": [
    "# from sklearn.tree import DecisionTreeRegressor\n",
    "\n",
    "# model = DecisionTreeRegressor()\n",
    "# model.fit(residual.reshape(-1, 1), star_ratings)\n",
    "\n",
    "# star_ratings - model.predict(residual.reshape(-1, 1))"
   ]
  },
  {
   "cell_type": "code",
   "execution_count": 136,
   "metadata": {},
   "outputs": [],
   "source": [
    "# # # n_alphas = 50\n",
    "# # # alphas = np.logspace(-10, 3, n_alphas)\n",
    "\n",
    "# # # parameters = {'alpha': alphas}\n",
    "# # # ridge_ = Ridge()\n",
    "# # # ridge_grid = GridSearchCV(ridge_, parameters)\n",
    "\n",
    "\n",
    "\n",
    "\n",
    "\n",
    "# class EnsemblePredictor(BaseEstimator, RegressorMixin):\n",
    "#     def fit(self, X, y):\n",
    "#         lr_att_model = Ridge(alpha=7.543120063354638)\n",
    "#         lr_att_model.fit(X,y)\n",
    "#         prediction = lr_att_model.predict(X)\n",
    "#         residual = (y - prediction)\n",
    "#         rf_regressor_nlr = RandomForestRegressor()\n",
    "# #         rf_regressor_nlr.fit(residual, y)\n",
    "#         return rf_regressor_nlr.fit(residual.reshape(-1, 1),y)\n",
    "    \n",
    "#     def predict(self, X):\n",
    "\n",
    "#         return rf_regressor_nlr.predict(X.reshape(-1, 1))\n",
    "    \n",
    "    \n",
    "    \n",
    "# lr_att_model_en = Pipeline([\n",
    "#         ('to_df',to_data_frame),\n",
    "#         ('cat_transformer',cat_transformer_att),\n",
    "# #         ('TfidfTransformer',TfidfTransformer()),\n",
    "#         ('EnsemblePredictor',EnsemblePredictor())\n",
    "# ], verbose=True)\n",
    "\n"
   ]
  },
  {
   "cell_type": "code",
   "execution_count": 137,
   "metadata": {},
   "outputs": [],
   "source": [
    "# lr_att_model_en.fit(data,star_ratings)"
   ]
  },
  {
   "cell_type": "code",
   "execution_count": 138,
   "metadata": {},
   "outputs": [],
   "source": [
    "# Create the transformer to handle the attributes data\n",
    "\n",
    "# Create the linear + non-linear ensemble predictor\n",
    "\n",
    "# Create the attribute model"
   ]
  },
  {
   "cell_type": "markdown",
   "metadata": {
    "slideshow": null
   },
   "source": [
    "## Question 6: full_model"
   ]
  },
  {
   "cell_type": "markdown",
   "metadata": {
    "slideshow": null
   },
   "source": [
    "So far we have only built models based on individual features.  Now we will build an ensemble regressor that averages together the estimates of the four previous regressors.\n",
    "\n",
    "In order to use the existing models as input to a predictor, we will have to turn them into transformers; a predictor can only be in the final step of a pipeline. Build a custom `ModelTransformer` class that takes a predictor as an argument. When `fit` is called, the predictor should be fit. When `transform` is called, the predictor's `predict` method should be called, and its results returned as the transformation.\n",
    "\n",
    "Note that the output of the `transform` method should be a 2-D array with a single column in order for it to work well with the scikit-learn pipeline. If you're using NumPy arrays, you can use `.reshape(-1, 1)` to create a column vector. If you are just using Python lists, you will want a list of lists of single elements."
   ]
  },
  {
   "cell_type": "code",
   "execution_count": 59,
   "metadata": {
    "slideshow": null
   },
   "outputs": [],
   "source": [
    "import numpy as np\n",
    "class ModelTransformer(BaseEstimator, TransformerMixin):\n",
    "    \n",
    "    def __init__(self, model):\n",
    "        # What needs to be done here?\n",
    "        self.model = model\n",
    "        return None\n",
    "    \n",
    "    def fit(self, X, y):\n",
    "        self.model.fit(X,y)\n",
    "        # Fit the stored predictor.\n",
    "        # Question: what should be returned?\n",
    "        return self\n",
    "    \n",
    "    def transform(self, X):\n",
    "        # Use predict on the stored predictor as a \"transformation\".\n",
    "        # Be sure to return a 2-D array.\n",
    "        return np.array(self.model.predict(X)).reshape(-1,1)"
   ]
  },
  {
   "cell_type": "markdown",
   "metadata": {
    "slideshow": null
   },
   "source": [
    "Let's now test it out on our `city_model`."
   ]
  },
  {
   "cell_type": "code",
   "execution_count": 63,
   "metadata": {
    "slideshow": null
   },
   "outputs": [
    {
     "data": {
      "text/plain": [
       "True"
      ]
     },
     "execution_count": 63,
     "metadata": {},
     "output_type": "execute_result"
    }
   ],
   "source": [
    "city_trans = ModelTransformer(city_model)\n",
    "city_trans.fit(data, star_ratings)\n",
    "X_t = city_trans.transform(data[:5])\n",
    "\n",
    "# Check that the transformation output is a 2-D array with one column\n",
    "grader.check(np.array(X_t).shape[-1] == 1)"
   ]
  },
  {
   "cell_type": "code",
   "execution_count": 64,
   "metadata": {
    "slideshow": null
   },
   "outputs": [
    {
     "data": {
      "text/plain": [
       "True"
      ]
     },
     "execution_count": 64,
     "metadata": {},
     "output_type": "execute_result"
    }
   ],
   "source": [
    "y_pred = np.array(city_model.predict(data[:5]))\n",
    "\n",
    "# Check that the transformation output is the same as the model's predictions\n",
    "grader.check((y_pred.reshape(-1, 1) == X_t).all())"
   ]
  },
  {
   "cell_type": "markdown",
   "metadata": {
    "slideshow": null
   },
   "source": [
    "Create an instance of `ModelTransformer` for each of the previous four models. Combine these together in a single feature matrix with a\n",
    "[`FeatureUnion`](http://scikit-learn.org/stable/modules/generated/sklearn.pipeline.FeatureUnion.html#sklearn.pipeline.FeatureUnion)."
   ]
  },
  {
   "cell_type": "code",
   "execution_count": 65,
   "metadata": {
    "slideshow": null
   },
   "outputs": [],
   "source": [
    "from sklearn.pipeline import FeatureUnion\n",
    "\n",
    "city_trans = ModelTransformer(city_model)\n",
    "lat_long_trans = ModelTransformer(lat_long_to_star_ratings)\n",
    "category_trans = ModelTransformer(category_model)\n",
    "att_trans = ModelTransformer(att_model_lr)\n",
    "\n",
    "\n",
    "union = FeatureUnion([\n",
    "    ('city_trans',city_trans),\n",
    "    ('lat_long_to_star_ratings',lat_long_trans),\n",
    "    ('category_model',category_trans),\n",
    "    ('attribute_model',att_trans)\n",
    "        # FeatureUnion uses the same syntax as Pipeline\n",
    "    ], verbose=True)"
   ]
  },
  {
   "cell_type": "markdown",
   "metadata": {
    "slideshow": null
   },
   "source": [
    "Our `FeatureUnion` object should return a feature matrix with four columns."
   ]
  },
  {
   "cell_type": "code",
   "execution_count": 66,
   "metadata": {
    "slideshow": null
   },
   "outputs": [
    {
     "name": "stdout",
     "output_type": "stream",
     "text": [
      "[FeatureUnion] .... (step 1 of 4) Processing city_trans, total=   0.0s\n",
      "[Pipeline] ............. (step 1 of 3) Processing to_df, total=   0.2s\n",
      "[Pipeline] .......... (step 2 of 3) Processing selector, total=   0.0s\n",
      "[Pipeline]  (step 3 of 3) Processing knn_regressor_grid, total=  20.8s\n",
      "[FeatureUnion]  (step 2 of 4) Processing lat_long_to_star_ratings, total=  21.0s\n",
      "[Pipeline] ............. (step 1 of 4) Processing to_df, total=   0.2s\n",
      "[Pipeline] ....... (step 1 of 2) Processing DictEncoder, total=   0.0s\n",
      "[Pipeline] ... (step 2 of 2) Processing  DictVectorizer, total=   0.1s\n",
      "[Pipeline] ... (step 2 of 4) Processing cat_transformer, total=   0.2s\n",
      "[Pipeline] .. (step 3 of 4) Processing TfidfTransformer, total=   0.0s\n",
      "[Pipeline] ........ (step 4 of 4) Processing ridge_grid, total=  17.9s\n",
      "[FeatureUnion]  (step 3 of 4) Processing category_model, total=  18.3s\n",
      "[Pipeline] ............. (step 1 of 3) Processing to_df, total=   0.2s\n",
      "[Pipeline] ....... (step 1 of 2) Processing DictFlatten, total=   0.5s\n",
      "[Pipeline] ... (step 2 of 2) Processing  DictVectorizer, total=   0.5s\n",
      "[Pipeline] ... (step 2 of 3) Processing cat_transformer, total=   1.0s\n",
      "[Pipeline] ........ (step 3 of 3) Processing ridge_grid, total=  21.3s\n",
      "[FeatureUnion]  (step 4 of 4) Processing attribute_model, total=  22.4s\n"
     ]
    },
    {
     "data": {
      "text/plain": [
       "FeatureUnion(transformer_list=[('city_trans',\n",
       "                                ModelTransformer(model=CityRegressor())),\n",
       "                               ('lat_long_to_star_ratings',\n",
       "                                ModelTransformer(model=Pipeline(steps=[('to_df',\n",
       "                                                                        ToDataFrame()),\n",
       "                                                                       ('selector',\n",
       "                                                                        ColumnTransformer(transformers=[('lat_long',\n",
       "                                                                                                         'passthrough',\n",
       "                                                                                                         ['latitude',\n",
       "                                                                                                          'longitude'])])),\n",
       "                                                                       ('knn_regressor_grid',\n",
       "                                                                        GridSearchCV(cv=KFold(n_splits=5, random_state=1169, s...\n",
       "                               ('attribute_model',\n",
       "                                ModelTransformer(model=Pipeline(steps=[('to_df',\n",
       "                                                                        ToDataFrame()),\n",
       "                                                                       ('cat_transformer',\n",
       "                                                                        ColumnTransformer(transformers=[('dict_vectorize',\n",
       "                                                                                                         Pipeline(steps=[('DictFlatten',\n",
       "                                                                                                                          DictFlatten()),\n",
       "                                                                                                                         (' '\n",
       "                                                                                                                          'DictVectorizer',\n",
       "                                                                                                                          DictVectorizer())],\n",
       "                                                                                                                  verbose=True),\n",
       "                                                                                                         ['attributes'])])),\n",
       "                                                                       ('ridge_grid',\n",
       "                                                                        GradientBoostingRegressor(n_estimators=1000))],\n",
       "                                                                verbose=True)))],\n",
       "             verbose=True)"
      ]
     },
     "execution_count": 66,
     "metadata": {},
     "output_type": "execute_result"
    }
   ],
   "source": [
    "union.fit(data, star_ratings)\n"
   ]
  },
  {
   "cell_type": "code",
   "execution_count": 67,
   "metadata": {},
   "outputs": [
    {
     "data": {
      "text/plain": [
       "True"
      ]
     },
     "execution_count": 67,
     "metadata": {},
     "output_type": "execute_result"
    }
   ],
   "source": [
    "X_t = union.transform(data[:5])\n",
    "\n",
    "# Transformed data should have 5 rows and 4 columns\n",
    "grader.check(X_t.shape == (5, 4))"
   ]
  },
  {
   "cell_type": "markdown",
   "metadata": {
    "slideshow": null
   },
   "source": [
    "Finally, use a pipeline to combine the feature union with a linear regression (or another model) to weight the predictions."
   ]
  },
  {
   "cell_type": "code",
   "execution_count": null,
   "metadata": {
    "slideshow": null
   },
   "outputs": [
    {
     "name": "stdout",
     "output_type": "stream",
     "text": [
      "[FeatureUnion] .... (step 1 of 4) Processing city_trans, total=   0.1s\n",
      "[Pipeline] ............. (step 1 of 3) Processing to_df, total=   0.2s\n",
      "[Pipeline] .......... (step 2 of 3) Processing selector, total=   0.0s\n"
     ]
    }
   ],
   "source": [
    "from sklearn.linear_model import LinearRegression\n",
    "from sklearn.ensemble import RandomForestRegressor\n",
    "\n",
    "full_model = Pipeline([\n",
    "        ('union_model',union),\n",
    "#         ('random_forest_regressor',RandomForestRegressor())\n",
    "        ('linear_regressor',LinearRegression())\n",
    "], verbose=True)\n",
    "\n",
    "\n",
    "full_model.fit(data, star_ratings)"
   ]
  }
 ],
 "metadata": {
  "kernelspec": {
   "display_name": "Python 3 (ipykernel)",
   "language": "python",
   "name": "python3"
  },
  "language_info": {
   "codemirror_mode": {
    "name": "ipython",
    "version": 3
   },
   "file_extension": ".py",
   "mimetype": "text/x-python",
   "name": "python",
   "nbconvert_exporter": "python",
   "pygments_lexer": "ipython3",
   "version": "3.9.12"
  },
  "nbclean": true,
  "toc": {
   "base_numbering": 1,
   "nav_menu": {},
   "number_sections": true,
   "sideBar": true,
   "skip_h1_title": false,
   "title_cell": "Table of Contents",
   "title_sidebar": "Contents",
   "toc_cell": false,
   "toc_position": {},
   "toc_section_display": true,
   "toc_window_display": false
  },
  "varInspector": {
   "cols": {
    "lenName": 16,
    "lenType": 16,
    "lenVar": 40
   },
   "kernels_config": {
    "python": {
     "delete_cmd_postfix": "",
     "delete_cmd_prefix": "del ",
     "library": "var_list.py",
     "varRefreshCmd": "print(var_dic_list())"
    },
    "r": {
     "delete_cmd_postfix": ") ",
     "delete_cmd_prefix": "rm(",
     "library": "var_list.r",
     "varRefreshCmd": "cat(var_dic_list()) "
    }
   },
   "types_to_exclude": [
    "module",
    "function",
    "builtin_function_or_method",
    "instance",
    "_Feature"
   ],
   "window_display": false
  }
 },
 "nbformat": 4,
 "nbformat_minor": 4
}
